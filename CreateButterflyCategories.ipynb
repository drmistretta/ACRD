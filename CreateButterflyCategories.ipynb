{
  "nbformat": 4,
  "nbformat_minor": 0,
  "metadata": {
    "colab": {
      "provenance": [],
      "include_colab_link": true
    },
    "kernelspec": {
      "name": "python3",
      "display_name": "Python 3"
    },
    "language_info": {
      "name": "python"
    }
  },
  "cells": [
    {
      "cell_type": "markdown",
      "metadata": {
        "id": "view-in-github",
        "colab_type": "text"
      },
      "source": [
        "<a href=\"https://colab.research.google.com/github/drmistretta/ACRD/blob/main/CreateButterflyCategories.ipynb\" target=\"_parent\"><img src=\"https://colab.research.google.com/assets/colab-badge.svg\" alt=\"Open In Colab\"/></a>"
      ]
    },
    {
      "cell_type": "code",
      "execution_count": 11,
      "metadata": {
        "colab": {
          "base_uri": "https://localhost:8080/"
        },
        "id": "Uzl5DzIPusUw",
        "outputId": "6b993544-8675-48fb-aacb-d22e773c7262"
      },
      "outputs": [
        {
          "output_type": "stream",
          "name": "stdout",
          "text": [
            "Drive already mounted at /content/drive; to attempt to forcibly remount, call drive.mount(\"/content/drive\", force_remount=True).\n"
          ]
        }
      ],
      "source": [
        "#Mount my Google Drive\n",
        "from google.colab import drive\n",
        "drive.mount('/content/drive')"
      ]
    },
    {
      "cell_type": "code",
      "source": [
        "#Colleague information: Programmer Name and Goal of Program\n",
        "programmer_name = \"Dr. Sharon Mistretta\"\n",
        "print(f\"Programmer Name: {programmer_name}\\nProgram Goal: To create unique folders of labeled butterfly species.\")"
      ],
      "metadata": {
        "colab": {
          "base_uri": "https://localhost:8080/"
        },
        "id": "MZ6K4w_zuyFa",
        "outputId": "cd23d416-5491-4bb3-f961-27e053cf157e"
      },
      "execution_count": 12,
      "outputs": [
        {
          "output_type": "stream",
          "name": "stdout",
          "text": [
            "Programmer Name: Dr. Sharon Mistretta\n",
            "Program Goal: To create unique folders of labeled butterfly species.\n"
          ]
        }
      ]
    },
    {
      "cell_type": "code",
      "source": [
        "import pandas as pd # A tool for data manipulation and analysis to work with structured data such as CSV files.\n",
        "import os # Allows the Python program to interface with file systems\n",
        "import shutil # Shell Utilities Library provides high-level file operations\n",
        "\n",
        "# Creates a variable csv_path that contains the location of the CSV dataset\n",
        "csv_path = \"/content/drive/My Drive/ACRD/Butterfly/merged_training_data.csv\"\n",
        "\n",
        "# Load the data\n",
        "df = pd.read_csv(csv_path)\n"
      ],
      "metadata": {
        "id": "-l3ZoEk4qrMf"
      },
      "execution_count": 13,
      "outputs": []
    },
    {
      "cell_type": "code",
      "source": [
        "# Compute unique labels\n",
        "unique_labels = df[\"label\"].unique() # Creates a new array unique_labels that examines the dataframe to determine the number of unique labels\n",
        "n_categories = unique_labels.size\n",
        "\n",
        "print(f\"Number of butterfly categories: {n_categories}\\n\")\n",
        "print(f\"Unique labels: {unique_labels}\")"
      ],
      "metadata": {
        "id": "k8E-kigiqqU9",
        "colab": {
          "base_uri": "https://localhost:8080/"
        },
        "outputId": "9828209d-bfe0-4fb7-9c99-70df315ff71f"
      },
      "execution_count": 14,
      "outputs": [
        {
          "output_type": "stream",
          "name": "stdout",
          "text": [
            "Number of butterfly categories: 75\n",
            "\n",
            "Unique labels: ['SOUTHERN DOGFACE' 'ADONIS' 'BROWN SIPROETA' 'MONARCH'\n",
            " 'GREEN CELLED CATTLEHEART' 'CAIRNS BIRDWING' 'EASTERN DAPPLE WHITE'\n",
            " 'RED POSTMAN' 'MANGROVE SKIPPER' 'BLACK HAIRSTREAK' 'CABBAGE WHITE'\n",
            " 'RED ADMIRAL' 'PAINTED LADY' 'PAPER KITE' 'SOOTYWING' 'PINE WHITE'\n",
            " 'PEACOCK' 'CHECQUERED SKIPPER' 'JULIA' 'COMMON WOOD-NYMPH' 'BLUE MORPHO'\n",
            " 'CLOUDED SULPHUR' 'STRAITED QUEEN' 'ORANGE OAKLEAF' 'PURPLISH COPPER'\n",
            " 'ATALA' 'IPHICLUS SISTER' 'DANAID EGGFLY' 'LARGE MARBLE'\n",
            " 'PIPEVINE SWALLOW' 'BLUE SPOTTED CROW' 'RED CRACKER' 'QUESTION MARK'\n",
            " 'CRIMSON PATCH' 'BANDED PEACOCK' 'SCARCE SWALLOW' 'COPPER TAIL'\n",
            " 'GREAT JAY' 'INDRA SWALLOW' 'VICEROY' 'MALACHITE' 'APPOLLO'\n",
            " 'TWO BARRED FLASHER' 'MOURNING CLOAK' 'TROPICAL LEAFWING' 'POPINJAY'\n",
            " 'ORANGE TIP' 'GOLD BANDED' 'BECKERS WHITE' 'RED SPOTTED PURPLE'\n",
            " 'MILBERTS TORTOISESHELL' 'SILVER SPOT SKIPPER' 'AMERICAN SNOOT' 'AN 88'\n",
            " 'ULYSES' 'COMMON BANDED AWL' 'CRECENT' 'METALMARK' 'SLEEPY ORANGE'\n",
            " 'PURPLE HAIRSTREAK' 'ELBOWED PIERROT' 'GREAT EGGFLY' 'ORCHARD SWALLOW'\n",
            " 'ZEBRA LONG WING' 'WOOD SATYR' 'MESTRA' 'EASTERN PINE ELFIN'\n",
            " 'EASTERN COMA' 'YELLOW SWALLOW TAIL' 'CLEOPATRA' 'GREY HAIRSTREAK'\n",
            " 'BANDED ORANGE HELICONIAN' 'AFRICAN GIANT SWALLOWTAIL' 'CHESTNUT'\n",
            " 'CLODIUS PARNASSIAN']\n"
          ]
        }
      ]
    },
    {
      "cell_type": "code",
      "source": [
        "output_dir=\"/content/drive/MyDrive/ACRD/Butterfly/NewSortedDatasetDemo\""
      ],
      "metadata": {
        "id": "DGnEbSd6shhY"
      },
      "execution_count": 15,
      "outputs": []
    },
    {
      "cell_type": "code",
      "source": [
        "# For each unique label, create a subdirectory and copy files\n",
        "for label, group in df.groupby('label'):\n",
        "    # Sanitizing label name for folder creation\n",
        "    safe_label = label.replace(\" \", \"_\").replace(\"/\", \"_\")\n",
        "    label_dir = os.path.join(output_dir, safe_label)\n",
        "    os.makedirs(label_dir, exist_ok=True)\n",
        "\n",
        "    for _, row in group.iterrows():\n",
        "        src_path = row['File_Path']\n",
        "        dst_path = os.path.join(label_dir, row['filename'])\n",
        "        try:\n",
        "            shutil.copy(src_path, dst_path)\n",
        "        except FileNotFoundError:\n",
        "            print(f\"Warning: {src_path} not found. Skipping.\")\n",
        "\n",
        "print(\"Finished organizing images into subfolders by category.\")\n"
      ],
      "metadata": {
        "id": "eFw6vpZ0ssnv",
        "colab": {
          "base_uri": "https://localhost:8080/"
        },
        "outputId": "88ed149f-97cc-427f-d140-3b24bc540a1b"
      },
      "execution_count": 16,
      "outputs": [
        {
          "output_type": "stream",
          "name": "stdout",
          "text": [
            "Finished organizing images into subfolders by category.\n"
          ]
        }
      ]
    }
  ]
}