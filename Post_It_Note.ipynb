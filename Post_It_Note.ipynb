{
  "nbformat": 4,
  "nbformat_minor": 0,
  "metadata": {
    "colab": {
      "provenance": [],
      "authorship_tag": "ABX9TyMrJFzaul17J+Sx8sunVGYB",
      "include_colab_link": true
    },
    "kernelspec": {
      "name": "python3",
      "display_name": "Python 3"
    },
    "language_info": {
      "name": "python"
    }
  },
  "cells": [
    {
      "cell_type": "markdown",
      "metadata": {
        "id": "view-in-github",
        "colab_type": "text"
      },
      "source": [
        "<a href=\"https://colab.research.google.com/github/drmistretta/ACRD/blob/main/Post_It_Note.ipynb\" target=\"_parent\"><img src=\"https://colab.research.google.com/assets/colab-badge.svg\" alt=\"Open In Colab\"/></a>"
      ]
    },
    {
      "cell_type": "code",
      "execution_count": null,
      "metadata": {
        "id": "lx0AgFvX1Hwo",
        "outputId": "1b66956a-ed65-4658-b14b-b1bc6ff90807",
        "colab": {
          "base_uri": "https://localhost:8080/",
          "height": 143
        }
      },
      "outputs": [
        {
          "output_type": "display_data",
          "data": {
            "text/plain": [
              "<IPython.core.display.HTML object>"
            ],
            "text/html": [
              "\n",
              "    <div style=\"\n",
              "        background-color: yellow;\n",
              "        color: black;\n",
              "        padding: 20px;\n",
              "        width: 300px;\n",
              "        height: auto;\n",
              "        border: 1px solid black;\n",
              "        border-radius: 5px;\n",
              "        box-shadow: 5px 5px 10px rgba(0, 0, 0, 0.1);\n",
              "        font-family: Arial, sans-serif;\n",
              "        line-height: 1.5;\n",
              "        \">\n",
              "        This is an example of a paragraph formatted to look like a yellow post-it note.\n",
              "It should be centered and have a border around it to mimic the appearance of a post-it note.\n",
              "    </div>\n",
              "    "
            ]
          },
          "metadata": {}
        }
      ],
      "source": [
        "from IPython.display import HTML, display\n",
        "\n",
        "def display_post_it_note(text):\n",
        "    html_content = f\"\"\"\n",
        "    <div style=\"\n",
        "        background-color: yellow;\n",
        "        color: black;\n",
        "        padding: 20px;\n",
        "        width: 300px;\n",
        "        height: auto;\n",
        "        border: 1px solid black;\n",
        "        border-radius: 5px;\n",
        "        box-shadow: 5px 5px 10px rgba(0, 0, 0, 0.1);\n",
        "        font-family: Arial, sans-serif;\n",
        "        line-height: 1.5;\n",
        "        \">\n",
        "        {text}\n",
        "    </div>\n",
        "    \"\"\"\n",
        "    display(HTML(html_content))\n",
        "\n",
        "text = \"\"\"This is an example of a paragraph formatted to look like a yellow post-it note.\n",
        "It should be centered and have a border around it to mimic the appearance of a post-it note.\"\"\"\n",
        "\n",
        "display_post_it_note(text)\n"
      ]
    }
  ]
}