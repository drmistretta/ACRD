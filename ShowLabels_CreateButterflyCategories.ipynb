{
  "nbformat": 4,
  "nbformat_minor": 0,
  "metadata": {
    "colab": {
      "provenance": [],
      "include_colab_link": true
    },
    "kernelspec": {
      "name": "python3",
      "display_name": "Python 3"
    },
    "language_info": {
      "name": "python"
    }
  },
  "cells": [
    {
      "cell_type": "markdown",
      "metadata": {
        "id": "view-in-github",
        "colab_type": "text"
      },
      "source": [
        "<a href=\"https://colab.research.google.com/github/drmistretta/ACRD/blob/main/ShowLabels_CreateButterflyCategories.ipynb\" target=\"_parent\"><img src=\"https://colab.research.google.com/assets/colab-badge.svg\" alt=\"Open In Colab\"/></a>"
      ]
    },
    {
      "cell_type": "code",
      "execution_count": null,
      "metadata": {
        "colab": {
          "base_uri": "https://localhost:8080/"
        },
        "id": "Uzl5DzIPusUw",
        "outputId": "682d8308-817d-4c22-b183-3e817eed0a3b"
      },
      "outputs": [
        {
          "output_type": "stream",
          "name": "stdout",
          "text": [
            "Drive already mounted at /content/drive; to attempt to forcibly remount, call drive.mount(\"/content/drive\", force_remount=True).\n"
          ]
        }
      ],
      "source": [
        "#Mount my Google Drive\n",
        "from google.colab import drive\n",
        "drive.mount('/content/drive')"
      ]
    },
    {
      "cell_type": "code",
      "source": [
        "#Colleague information: Programmer Name and Goal of Program\n",
        "programmer_name = \"Dr. Sharon Mistretta\"\n",
        "print(f\"Programmer Name: {programmer_name}\\nProgram Goal: To create unique folders of labeled butterfly species.\")"
      ],
      "metadata": {
        "id": "MZ6K4w_zuyFa",
        "colab": {
          "base_uri": "https://localhost:8080/"
        },
        "outputId": "e0e50bc5-4fa9-42d7-eaa8-c7ff5e60512c"
      },
      "execution_count": null,
      "outputs": [
        {
          "output_type": "stream",
          "name": "stdout",
          "text": [
            "Programmer Name: Dr. Sharon Mistretta\n",
            "Program Goal: To create unique folders of labeled butterfly species.\n"
          ]
        }
      ]
    },
    {
      "cell_type": "code",
      "source": [
        "import pandas as pd # A tool for data manipulation and analysis to work with structured data such as CSV files.\n",
        "import os # Allows the Python program to interface with file systems\n",
        "import shutil # Shell Utilities Library provides high-level file operations\n",
        "\n",
        "# Creates a variable csv_path that contains the location of the CSV dataset\n",
        "csv_path = \"/content/drive/My Drive/ACRD/Butterfly/merged_training_data.csv\"\n",
        "\n",
        "# Load the data\n",
        "df = pd.read_csv(csv_path)\n"
      ],
      "metadata": {
        "id": "-l3ZoEk4qrMf"
      },
      "execution_count": null,
      "outputs": []
    },
    {
      "cell_type": "code",
      "source": [
        "# Compute unique labels\n",
        "unique_labels = df[\"label\"].unique() # Creates a new array unique_labels that examines the dataframe to determine the number of unique labels\n",
        "n_categories = unique_labels.size # Creates a new variable n_categories that gives the the number of butterfly categories in the array\n",
        "\n",
        "# In the following print statement, the f-string is a formatted string literal\n",
        "# that allows us to embed variables inside a string using {} The \\n leaves a blank line below the output.\n",
        "print(f\"Number of butterfly categories: {n_categories}\\n\")\n",
        "\n",
        "# In the following print statement, each unique label is printed on a new line, numbered consecutively.\n",
        "print(\"Unique labels:\\n\" + \"\\n\".join(f\"{i+1}. {label}\" for i, label in enumerate(sorted(unique_labels))))"
      ],
      "metadata": {
        "id": "k8E-kigiqqU9",
        "colab": {
          "base_uri": "https://localhost:8080/"
        },
        "outputId": "e0113049-845c-46bf-b66b-bb7bfb2c4412"
      },
      "execution_count": null,
      "outputs": [
        {
          "output_type": "stream",
          "name": "stdout",
          "text": [
            "Number of butterfly categories: 75\n",
            "\n",
            "Unique labels:\n",
            "1. ADONIS\n",
            "2. AFRICAN GIANT SWALLOWTAIL\n",
            "3. AMERICAN SNOOT\n",
            "4. AN 88\n",
            "5. APPOLLO\n",
            "6. ATALA\n",
            "7. BANDED ORANGE HELICONIAN\n",
            "8. BANDED PEACOCK\n",
            "9. BECKERS WHITE\n",
            "10. BLACK HAIRSTREAK\n",
            "11. BLUE MORPHO\n",
            "12. BLUE SPOTTED CROW\n",
            "13. BROWN SIPROETA\n",
            "14. CABBAGE WHITE\n",
            "15. CAIRNS BIRDWING\n",
            "16. CHECQUERED SKIPPER\n",
            "17. CHESTNUT\n",
            "18. CLEOPATRA\n",
            "19. CLODIUS PARNASSIAN\n",
            "20. CLOUDED SULPHUR\n",
            "21. COMMON BANDED AWL\n",
            "22. COMMON WOOD-NYMPH\n",
            "23. COPPER TAIL\n",
            "24. CRECENT\n",
            "25. CRIMSON PATCH\n",
            "26. DANAID EGGFLY\n",
            "27. EASTERN COMA\n",
            "28. EASTERN DAPPLE WHITE\n",
            "29. EASTERN PINE ELFIN\n",
            "30. ELBOWED PIERROT\n",
            "31. GOLD BANDED\n",
            "32. GREAT EGGFLY\n",
            "33. GREAT JAY\n",
            "34. GREEN CELLED CATTLEHEART\n",
            "35. GREY HAIRSTREAK\n",
            "36. INDRA SWALLOW\n",
            "37. IPHICLUS SISTER\n",
            "38. JULIA\n",
            "39. LARGE MARBLE\n",
            "40. MALACHITE\n",
            "41. MANGROVE SKIPPER\n",
            "42. MESTRA\n",
            "43. METALMARK\n",
            "44. MILBERTS TORTOISESHELL\n",
            "45. MONARCH\n",
            "46. MOURNING CLOAK\n",
            "47. ORANGE OAKLEAF\n",
            "48. ORANGE TIP\n",
            "49. ORCHARD SWALLOW\n",
            "50. PAINTED LADY\n",
            "51. PAPER KITE\n",
            "52. PEACOCK\n",
            "53. PINE WHITE\n",
            "54. PIPEVINE SWALLOW\n",
            "55. POPINJAY\n",
            "56. PURPLE HAIRSTREAK\n",
            "57. PURPLISH COPPER\n",
            "58. QUESTION MARK\n",
            "59. RED ADMIRAL\n",
            "60. RED CRACKER\n",
            "61. RED POSTMAN\n",
            "62. RED SPOTTED PURPLE\n",
            "63. SCARCE SWALLOW\n",
            "64. SILVER SPOT SKIPPER\n",
            "65. SLEEPY ORANGE\n",
            "66. SOOTYWING\n",
            "67. SOUTHERN DOGFACE\n",
            "68. STRAITED QUEEN\n",
            "69. TROPICAL LEAFWING\n",
            "70. TWO BARRED FLASHER\n",
            "71. ULYSES\n",
            "72. VICEROY\n",
            "73. WOOD SATYR\n",
            "74. YELLOW SWALLOW TAIL\n",
            "75. ZEBRA LONG WING\n"
          ]
        }
      ]
    }
  ]
}