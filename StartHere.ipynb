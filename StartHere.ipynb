{
  "nbformat": 4,
  "nbformat_minor": 0,
  "metadata": {
    "colab": {
      "provenance": [],
      "authorship_tag": "ABX9TyOlsm5GlJ+DEOjCqY4IiFy1",
      "include_colab_link": true
    },
    "kernelspec": {
      "name": "python3",
      "display_name": "Python 3"
    },
    "language_info": {
      "name": "python"
    }
  },
  "cells": [
    {
      "cell_type": "markdown",
      "metadata": {
        "id": "view-in-github",
        "colab_type": "text"
      },
      "source": [
        "<a href=\"https://colab.research.google.com/github/drmistretta/ACRD/blob/main/StartHere.ipynb\" target=\"_parent\"><img src=\"https://colab.research.google.com/assets/colab-badge.svg\" alt=\"Open In Colab\"/></a>"
      ]
    },
    {
      "cell_type": "code",
      "execution_count": null,
      "metadata": {
        "id": "Uzl5DzIPusUw"
      },
      "outputs": [],
      "source": [
        "from google.colab import drive\n",
        "drive.mount('/content/drive')"
      ]
    },
    {
      "cell_type": "code",
      "source": [
        "programmer_name = \"Dr. Sharon Mistretta\"  # Replace with your name\n",
        "print(f\"Programmer Name: {programmer_name}\\nProgram Goal: \") #Replace with Assignment Goal"
      ],
      "metadata": {
        "id": "MZ6K4w_zuyFa"
      },
      "execution_count": null,
      "outputs": []
    }
  ]
}